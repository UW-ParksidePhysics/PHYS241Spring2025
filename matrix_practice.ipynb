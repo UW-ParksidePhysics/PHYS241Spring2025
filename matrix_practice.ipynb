{
 "cells": [
  {
   "metadata": {},
   "cell_type": "markdown",
   "source": [
    "$$\n",
    "\\begin{array}{lll}\n",
    "\\left\\{ \\begin{array}{rl} x + y & = 1 \\\\ 2x - y & = -1 \\end{array} \\right. &\\longrightarrow &\\tilde{A} \\vec{x} = \\vec{b} \\\\\n",
    "\\left\\{ \\begin{array}{rl} -2x + y & = 2 \\\\ x - y & = -1 \\end{array} \\right. &\\longrightarrow &\\tilde{B} \\vec{x} = \\vec{c} \\\\\n",
    "\\left\\{ \\begin{array}{rl} x - 2y & = 0 \\\\ 2x + y & = 2 \\end{array} \\right. &\\longrightarrow &\\tilde{C} \\vec{x} = \\vec{d} \\\\\n",
    "\\left\\{ \\begin{array}{rl} 2x + 2y & = 2 \\\\ x - y & = 1 \\end{array} \\right. &\\longrightarrow &\\tilde{D} \\vec{x} = \\vec{f} \\\\\n",
    "\\left\\{ \\begin{array}{rl} -x + y & = 1 \\\\ 2x + y & = -2 \\end{array} \\right. &\\longrightarrow &\\tilde{E} \\vec{x} = \\vec{g} \\\\\n",
    "\\left\\{ \\begin{array}{rl} 2x - y & = 0 \\\\ x + y & = 2 \\end{array} \\right. &\\longrightarrow &\\tilde{F} \\vec{x} = \\vec{h} \\\\\n",
    "\\left\\{ \\begin{array}{rl} x + y & = 0 \\\\ -2x + y & = 1 \\end{array} \\right. &\\longrightarrow &\\tilde{G} \\vec{x} = \\vec{j} \\\\\n",
    "\\left\\{ \\begin{array}{rl} x - y & = -2 \\\\ 2x + y & = 1 \\end{array} \\right. &\\longrightarrow &\\tilde{H} \\vec{x} = \\vec{k} \\\\\n",
    "\\left\\{ \\begin{array}{rl} -2x + 2y & = 2 \\\\ x + y & = 1 \\end{array} \\right. &\\longrightarrow &\\tilde{J} \\vec{x} = \\vec{l} \\\\\n",
    "\\left\\{ \\begin{array}{rl} x + 2y & = 0 \\\\ -2x + y & = 1 \\end{array} \\right. &\\longrightarrow &\\tilde{K} \\vec{x} = \\vec{m}\n",
    "\\end{array}\n",
    "$$"
   ],
   "id": "645b08c06afd56f6"
  },
  {
   "metadata": {
    "ExecuteTime": {
     "end_time": "2025-03-04T14:27:03.804445Z",
     "start_time": "2025-03-04T14:27:03.607107Z"
    }
   },
   "cell_type": "code",
   "source": [
    "import numpy as np\n",
    "\n",
    "\n",
    "matrix_A = np.array([[1, 1], [2, -2]])\n",
    "matrix_B = np.array([[2, 1], [1, -1]])\n",
    "\n",
    "print(matrix_A + matrix_B)\n",
    "print(matrix_A - matrix_B)\n",
    "print(np.matmul(matrix_A, matrix_B))"
   ],
   "id": "3395cc8179b001ca",
   "outputs": [
    {
     "name": "stdout",
     "output_type": "stream",
     "text": [
      "[[ 3  2]\n",
      " [ 3 -3]]\n",
      "[[-1  0]\n",
      " [ 1 -1]]\n",
      "[[3 0]\n",
      " [2 4]]\n"
     ]
    }
   ],
   "execution_count": 1
  },
  {
   "metadata": {
    "ExecuteTime": {
     "end_time": "2025-03-04T14:32:45.411683Z",
     "start_time": "2025-03-04T14:32:45.408298Z"
    }
   },
   "cell_type": "code",
   "source": [
    "matrix_C = np.array([[1, -2], [2, 1]])\n",
    "matrix_D = np.array([[2, 2], [1, -1]])\n",
    "\n",
    "\n",
    "print(f'C = {matrix_C}\\n')\n",
    "print(f'D = {matrix_D}\\n')\n",
    "\n",
    "print(f'C+D = {matrix_C + matrix_D}\\n')\n",
    "print(f'C-D = {matrix_C - matrix_D}\\n')\n",
    "print(f'C D = {np.matmul(matrix_C, matrix_D)}\\n')"
   ],
   "id": "bccd1e9d50d1c52e",
   "outputs": [
    {
     "name": "stdout",
     "output_type": "stream",
     "text": [
      "C = [[ 1 -2]\n",
      " [ 2  1]]\n",
      "\n",
      "D = [[ 2  2]\n",
      " [ 1 -1]]\n",
      "\n",
      "C+D = [[3 0]\n",
      " [3 0]]\n",
      "\n",
      "C-D = [[-1 -4]\n",
      " [ 1  2]]\n",
      "\n",
      "C D = [[0 4]\n",
      " [5 3]]\n",
      "\n"
     ]
    }
   ],
   "execution_count": 4
  },
  {
   "metadata": {},
   "cell_type": "markdown",
   "source": "",
   "id": "aeadc1fd33326c31"
  },
  {
   "metadata": {
    "ExecuteTime": {
     "end_time": "2025-03-04T14:35:26.003969Z",
     "start_time": "2025-03-04T14:35:26.000742Z"
    }
   },
   "cell_type": "code",
   "source": [
    "matrix_E = np.array([[-1, 1], [2, 1]])\n",
    "matrix_F = np.array([[2, -1], [1, 1]])\n",
    "\n",
    "print(f'E = {matrix_E}\\n')\n",
    "print(f'F = {matrix_F}\\n')\n",
    "\n",
    "print(f'E+F = {matrix_E + matrix_F}\\n')\n",
    "print(f'E-F = {matrix_E - matrix_F}\\n')\n",
    "print(f'E F = {np.matmul(matrix_E, matrix_F)}\\n')\n"
   ],
   "id": "3ab3ecc98f4e475e",
   "outputs": [
    {
     "name": "stdout",
     "output_type": "stream",
     "text": [
      "E = [[-1  1]\n",
      " [ 2  1]]\n",
      "\n",
      "F = [[ 2 -1]\n",
      " [ 1  1]]\n",
      "\n",
      "E+F = [[1 0]\n",
      " [3 2]]\n",
      "\n",
      "E-F = [[-3  2]\n",
      " [ 1  0]]\n",
      "\n",
      "E F = [[-1  2]\n",
      " [ 5 -1]]\n",
      "\n"
     ]
    }
   ],
   "execution_count": 5
  },
  {
   "metadata": {
    "ExecuteTime": {
     "end_time": "2025-03-04T14:50:16.253551Z",
     "start_time": "2025-03-04T14:50:16.249979Z"
    }
   },
   "cell_type": "code",
   "source": [
    "def print_matrix_combination(matrix_one, matrix_two, matrix_names):\n",
    "    \"\"\" Takes two matrices and their names and prints out the sum, difference, and product\n",
    "\n",
    "    :argument\n",
    "    matrix_one :: np.array\n",
    "    matrix_two :: np.array\n",
    "    matrix_names :: list of strings\n",
    "\n",
    "    return: None\n",
    "    \"\"\"\n",
    "\n",
    "\n",
    "    print(f'{matrix_names[0]} = {matrix_one}\\n')\n",
    "    print(f'{matrix_names[1]} = {matrix_two}\\n')\n",
    "\n",
    "    print(f'{matrix_names[0]} + {matrix_names[1]} = {matrix_one + matrix_two}\\n')\n",
    "    print(f'{matrix_names[0]} - {matrix_names[1]} = {matrix_one - matrix_two}\\n')\n",
    "    print(f'{matrix_names[0]} {matrix_names[1]} = {np.matmul(matrix_one, matrix_two)}\\n')\n",
    "\n",
    "    return\n",
    "\n",
    "matrix_G = np.array([[1, 1], [-2, 1]])\n",
    "matrix_H = np.array([[1, -1], [2, 1]])\n",
    "GH_names = ['G', 'H']\n",
    "\n",
    "print_matrix_combination(matrix_G, matrix_H, GH_names)"
   ],
   "id": "4ccb749aca5c7750",
   "outputs": [
    {
     "name": "stdout",
     "output_type": "stream",
     "text": [
      "G = [[ 1  1]\n",
      " [-2  1]]\n",
      "H = [[ 1 -1]\n",
      " [ 2  1]]\n",
      "G + H = [[2 0]\n",
      " [0 2]]\n",
      "G - H = [[ 0  2]\n",
      " [-4  0]]\n",
      "G H = [[3 0]\n",
      " [0 3]]\n"
     ]
    }
   ],
   "execution_count": 7
  }
 ],
 "metadata": {
  "kernelspec": {
   "display_name": "Python 3",
   "language": "python",
   "name": "python3"
  },
  "language_info": {
   "codemirror_mode": {
    "name": "ipython",
    "version": 2
   },
   "file_extension": ".py",
   "mimetype": "text/x-python",
   "name": "python",
   "nbconvert_exporter": "python",
   "pygments_lexer": "ipython2",
   "version": "2.7.6"
  }
 },
 "nbformat": 4,
 "nbformat_minor": 5
}
