{
 "cells": [
  {
   "metadata": {},
   "cell_type": "markdown",
   "source": "# Free-fall Motion (1D)",
   "id": "4c0639cb83e14519"
  },
  {
   "metadata": {},
   "cell_type": "markdown",
   "source": [
    "| Mathematical Symbol            | Python Variable                | Mathematical Equation                                       |\n",
    "|--------------------------------|--------------------------------|-------------------------------------------------------------|\n",
    "| $t_f$                          | fall_time                      | $\\frac{v_0  + \\sqrt{v_0^2 + 2 g y_0}}{g}$                   |\n",
    "| $y_\\textrm{max}$               | maximum_height                 | $y_0 + \\frac{1}{2} \\frac{v_0^2}{g}$                         |\n",
    "| $y(t)$                         | height_in_time                 | $y_0 + v_0 t - \\frac{1}{2} g t^2$                           |\n",
    "| $v(t)$                         | velocity_in_time               | $v_0 - gt$                                                  |\n",
    "| $v(y)$                         | velocity_in_height             | $\\textrm{sgn}(v_0) \\sqrt{v_0^2 - 2 g (y - y_0)}$ for $v_0 \\neq 0$ |\n",
    "| | | $\\sqrt{- 2 g (y - y_0)}$ for $v_0 = 0$                      |"
   ],
   "id": "c91277698276991d"
  },
  {
   "metadata": {},
   "cell_type": "markdown",
   "source": "$\\textrm{sgn}(x) = \\left\\{ \\begin{array}{ll} 1, &x > 0\\\\ 0, &x = 0 \\\\ -1, &x < 0 \\\\ \\end{array} \\right. $",
   "id": "8e18656408216bb6"
  },
  {
   "metadata": {},
   "cell_type": "markdown",
   "source": "",
   "id": "737ca07be69796b4"
  }
 ],
 "metadata": {
  "kernelspec": {
   "display_name": "Python 3",
   "language": "python",
   "name": "python3"
  },
  "language_info": {
   "codemirror_mode": {
    "name": "ipython",
    "version": 2
   },
   "file_extension": ".py",
   "mimetype": "text/x-python",
   "name": "python",
   "nbconvert_exporter": "python",
   "pygments_lexer": "ipython2",
   "version": "2.7.6"
  }
 },
 "nbformat": 4,
 "nbformat_minor": 5
}
