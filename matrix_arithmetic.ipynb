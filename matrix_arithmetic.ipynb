{
 "cells": [
  {
   "metadata": {},
   "cell_type": "markdown",
   "source": "# Matrix Arithmetic",
   "id": "d8afde74dd4ecf32"
  },
  {
   "metadata": {},
   "cell_type": "markdown",
   "source": [
    "## Matrix Multiplication\n",
    "Row by column"
   ],
   "id": "21f8e32023fc123d"
  },
  {
   "metadata": {},
   "cell_type": "markdown",
   "source": [
    "$\\begin{array}{cc}\n",
    "1 \\times 2 & 2 \\times 1 & \\longrightarrow 1 \\times 1\\\\\n",
    "\\left( \\begin{array}{cc}2 & 3\\end{array}\\right) &\n",
    "\\left( \\begin{array}{c}4 \\\\ 5\\end{array}\\right) &\n",
    "= 2 \\cdot 4 + 3 \\cdot 5 = 8 + 15 = 23\n",
    "\\end{array}$\n"
   ],
   "id": "80807b97aed46edf"
  },
  {
   "metadata": {},
   "cell_type": "markdown",
   "source": [
    "$\\begin{array}{cc}\n",
    "2 \\times 1 & 1 \\times 2 & \\longrightarrow 2 \\times 2\\\\\n",
    "\\left( \\begin{array}{c}4 \\\\ 5\\end{array}\\right) &\n",
    "\\left( \\begin{array}{cc}2 & 3\\end{array}\\right) &\n",
    "=\\left( \\begin{array}{cc}4 \\cdot 2 & 4 \\cdot 3 \\\\ 5 \\cdot 2 & 5 \\cdot 3 \\\\ \\end{array}\\right) =\n",
    "\\left( \\begin{array}{cc}8 & 12 \\\\ 10 & 15 \\\\ \\end{array}\\right)\n",
    "\\end{array}$"
   ],
   "id": "be95497d2659cb5f"
  },
  {
   "metadata": {},
   "cell_type": "markdown",
   "source": "",
   "id": "2bc826f8120badf4"
  }
 ],
 "metadata": {
  "kernelspec": {
   "display_name": "Python 3",
   "language": "python",
   "name": "python3"
  },
  "language_info": {
   "codemirror_mode": {
    "name": "ipython",
    "version": 2
   },
   "file_extension": ".py",
   "mimetype": "text/x-python",
   "name": "python",
   "nbconvert_exporter": "python",
   "pygments_lexer": "ipython2",
   "version": "2.7.6"
  }
 },
 "nbformat": 4,
 "nbformat_minor": 5
}
