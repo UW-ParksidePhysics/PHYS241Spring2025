{
 "cells": [
  {
   "metadata": {},
   "cell_type": "markdown",
   "source": "# Matrix Arithmetic",
   "id": "d8afde74dd4ecf32"
  },
  {
   "metadata": {},
   "cell_type": "markdown",
   "source": [
    "## Matrix Addition and Subtraction\n",
    "* Component-wise (one entry only adds to another entry at the same place in the matrix)\n",
    "* Two matrices must have same number of rows and columns to add/subtract"
   ],
   "id": "39b3e86331cffb90"
  },
  {
   "metadata": {},
   "cell_type": "markdown",
   "source": [
    "\n",
    "$\\left(\\begin{array}{c}13 \\\\ 1 \\end{array}\\right)\n",
    "+ \\left(\\begin{array}{c}2 \\\\ -3 \\end{array}\\right)\n",
    "= \\left(\\begin{array}{c}15 \\\\ -2 \\end{array}\\right)$"
   ],
   "id": "ea6f98f58cb4f83c"
  },
  {
   "metadata": {},
   "cell_type": "markdown",
   "source": [
    "$\\left(\\begin{array}{cc}2 & 3 \\\\ -1 & 5 \\\\ \\end{array}\\right)\n",
    "+ \\left(\\begin{array}{cc}-1 & 0 \\\\ 0 & 1 \\end{array}\\right)\n",
    "= \\left(\\begin{array}{cc}1 & 3 \\\\ -1 & 6 \\end{array}\\right)$"
   ],
   "id": "7e9173057c8c26e"
  },
  {
   "metadata": {},
   "cell_type": "markdown",
   "source": [
    "## Matrix Multiplication\n",
    "* Row by column\n",
    "* Number of _columns_ in the __left__ matrix must equal the number of _rows_ in the __right__ matrix"
   ],
   "id": "21f8e32023fc123d"
  },
  {
   "metadata": {},
   "cell_type": "markdown",
   "source": [
    "$\\begin{array}{cc}\n",
    "1 \\times 2 & 2 \\times 1 & \\longrightarrow 1 \\times 1\\\\\n",
    "\\left( \\begin{array}{cc}2 & 3\\end{array}\\right) &\n",
    "\\left( \\begin{array}{c}4 \\\\ 5\\end{array}\\right) &\n",
    "= 2 \\cdot 4 + 3 \\cdot 5 = 8 + 15 = 23\n",
    "\\end{array}$\n"
   ],
   "id": "80807b97aed46edf"
  },
  {
   "metadata": {},
   "cell_type": "markdown",
   "source": [
    "$\\begin{array}{cc}\n",
    "2 \\times 1 & 1 \\times 2 & \\longrightarrow 2 \\times 2\\\\\n",
    "\\left( \\begin{array}{c}4 \\\\ 5\\end{array}\\right) &\n",
    "\\left( \\begin{array}{cc}2 & 3\\end{array}\\right) &\n",
    "=\\left( \\begin{array}{cc}4 \\cdot 2 & 4 \\cdot 3 \\\\ 5 \\cdot 2 & 5 \\cdot 3 \\\\ \\end{array}\\right) =\n",
    "\\left( \\begin{array}{cc}8 & 12 \\\\ 10 & 15 \\\\ \\end{array}\\right)\n",
    "\\end{array}$"
   ],
   "id": "be95497d2659cb5f"
  },
  {
   "metadata": {},
   "cell_type": "markdown",
   "source": "",
   "id": "2bc826f8120badf4"
  }
 ],
 "metadata": {
  "kernelspec": {
   "display_name": "Python 3",
   "language": "python",
   "name": "python3"
  },
  "language_info": {
   "codemirror_mode": {
    "name": "ipython",
    "version": 2
   },
   "file_extension": ".py",
   "mimetype": "text/x-python",
   "name": "python",
   "nbconvert_exporter": "python",
   "pygments_lexer": "ipython2",
   "version": "2.7.6"
  }
 },
 "nbformat": 4,
 "nbformat_minor": 5
}
