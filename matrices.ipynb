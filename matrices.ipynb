{
 "cells": [
  {
   "metadata": {},
   "cell_type": "markdown",
   "source": "# Matrices",
   "id": "c6a7549e76b4eeeb"
  },
  {
   "metadata": {},
   "cell_type": "markdown",
   "source": [
    "## System of Equations\n",
    "\n",
    "$\\left\\{\n",
    "\\begin{array}{ll}\n",
    "2x + 3y &= 13 \\\\\n",
    "-x + y &= 1 \\\\\n",
    "\\end{array}\\right.\n",
    "\\longrightarrow\n",
    "\\left(\n",
    "\\begin{array}{cc}2 & 3 \\\\ -1 & 1 \\\\\\end{array}\n",
    "\\right)\n",
    "\\left(\n",
    "\\begin{array}{c}\n",
    "x \\\\\n",
    "y \\\\\n",
    "\\end{array}\n",
    "\\right)\n",
    "=\n",
    "\\left(\n",
    "\\begin{array}{c}\n",
    "13 \\\\\n",
    "1 \\\\\n",
    "\\end{array}\n",
    "\\right)\n",
    "$"
   ],
   "id": "fdeee21cb420dcc6"
  },
  {
   "metadata": {
    "ExecuteTime": {
     "end_time": "2025-02-27T14:10:27.073171Z",
     "start_time": "2025-02-27T14:10:27.069308Z"
    }
   },
   "cell_type": "code",
   "source": [
    "import numpy as np\n",
    "\n",
    "\n",
    "matrix_A = np.array([[2, 3], [-1, 1]])\n",
    "\n",
    "print(f'\\u00c3 = {matrix_A}')"
   ],
   "id": "32bf428f540446df",
   "outputs": [
    {
     "name": "stdout",
     "output_type": "stream",
     "text": [
      "Ã = [[ 2  3]\n",
      " [-1  1]]\n"
     ]
    }
   ],
   "execution_count": 2
  },
  {
   "metadata": {},
   "cell_type": "markdown",
   "source": "",
   "id": "c568d8408a851d14"
  }
 ],
 "metadata": {
  "kernelspec": {
   "display_name": "Python 3",
   "language": "python",
   "name": "python3"
  },
  "language_info": {
   "codemirror_mode": {
    "name": "ipython",
    "version": 2
   },
   "file_extension": ".py",
   "mimetype": "text/x-python",
   "name": "python",
   "nbconvert_exporter": "python",
   "pygments_lexer": "ipython2",
   "version": "2.7.6"
  }
 },
 "nbformat": 4,
 "nbformat_minor": 5
}
