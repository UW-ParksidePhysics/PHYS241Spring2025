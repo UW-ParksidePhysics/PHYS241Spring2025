{
 "cells": [
  {
   "metadata": {},
   "cell_type": "markdown",
   "source": "# Solving Two-variable System of Two Equations",
   "id": "daa3847bf949f25a"
  },
  {
   "metadata": {},
   "cell_type": "markdown",
   "source": "$\\left\\{\\begin{array}{l} ax + by &= c \\\\ dx + ey &= f\\end{array} \\right. $",
   "id": "32561cc3f347b5"
  },
  {
   "metadata": {},
   "cell_type": "markdown",
   "source": [
    "## Substitution\n",
    "\n",
    "Solve first equation for $x$\n",
    "\n",
    "$x = \\frac{1}{a}(c - by)$"
   ],
   "id": "1cdcbf96a306a64f"
  },
  {
   "metadata": {},
   "cell_type": "markdown",
   "source": [
    "Substitute $x$ into second equation\n",
    "\n",
    "$\\frac{d}{a}(c - by) + ey = f$"
   ],
   "id": "d44d0215c9243f2a"
  },
  {
   "metadata": {},
   "cell_type": "markdown",
   "source": [
    "Multiply both sides by $a$:\n",
    "\n",
    "$d(c-by) +aey = af$"
   ],
   "id": "aadcca65bf11f3f0"
  },
  {
   "metadata": {},
   "cell_type": "markdown",
   "source": [
    "Group terms with $y$ and move non-$y$ terms to the right-hand side\n",
    "\n",
    "$(-db + ae) y = af - dc$"
   ],
   "id": "8a0b31a0ba48fb5c"
  },
  {
   "metadata": {},
   "cell_type": "markdown",
   "source": [
    "Solve for $y$:\n",
    "\n",
    "$y = \\frac{-dc + fa}{ae - bd}$\n"
   ],
   "id": "88b3ba81e550a9d7"
  },
  {
   "metadata": {},
   "cell_type": "markdown",
   "source": [
    "Replace $y$ in solved $x$ equation:\n",
    "\n",
    "$x = \\frac{1}{a}(c - b \\left[ \\frac{-dc + fa}{ae - bd}\\right])$"
   ],
   "id": "c213017f4744c673"
  },
  {
   "metadata": {},
   "cell_type": "markdown",
   "source": [
    "Multiply $c$ by $\\frac{-dc + fa}{ae - bd}$ to get a common denominator:\n",
    "\n",
    "$x = \\frac{1}{a}\\left(\\frac{aec - cbd + bdc -bfa}{ae - bd} \\right)$"
   ],
   "id": "292361e8d56843f4"
  },
  {
   "metadata": {},
   "cell_type": "markdown",
   "source": [
    "Cancel equivalent $-cbd +bdc$ and divde out $a$ from $-bfa + aec$ to get:\n",
    "\n",
    "$x = \\frac{-bf + ce}{ae - bd}$"
   ],
   "id": "aada4a8520e0d97b"
  },
  {
   "metadata": {},
   "cell_type": "markdown",
   "source": [
    "## Matrix Solution\n",
    "\n",
    "$\\left(\\begin{array}{cc}a & b \\\\ d & e \\\\ \\end{array}\\right) \\left(\\begin{array}{c}x \\\\ y \\end{array} \\right) = \\left(\\begin{array}{c} c\\\\ f\\end{array} \\right)$"
   ],
   "id": "cfd1041b94e408d1"
  },
  {
   "metadata": {},
   "cell_type": "markdown",
   "source": "$\\left(\\begin{array}{c}x \\\\ y \\end{array} \\right) = \\left(\\begin{array}{cc}a & b \\\\ d & e \\\\ \\end{array}\\right)^{-1} \\left(\\begin{array}{c} c\\\\ f\\end{array} \\right)$",
   "id": "ae05df1133b10ad3"
  },
  {
   "metadata": {},
   "cell_type": "markdown",
   "source": "$\\left(\\begin{array}{c}x \\\\ y \\end{array} \\right) = \\frac{1}{ae - bd} \\left(\\begin{array}{c} ce - bf\\\\ -dc + fa\\end{array} \\right) = \\frac{1}{ae - bd} \\left( \\begin{array}{cc}e & -b\\\\ -d & a\\\\ \\end{array}\\right)\\left(\\begin{array}{c} c\\\\ f\\end{array}  \\right)$",
   "id": "188589f7f9725953"
  },
  {
   "metadata": {},
   "cell_type": "markdown",
   "source": [
    "## Determinant\n",
    "$ae - bd \\equiv \\det \\left(\\begin{array}{cc}a & b \\\\ d & e \\\\ \\end{array}\\right) $"
   ],
   "id": "ce394d0644ef3ec4"
  },
  {
   "metadata": {},
   "cell_type": "markdown",
   "source": [
    "## Inverse Matrix\n",
    "$\\tilde{A}^{-1} = \\frac{1}{\\det(\\tilde{A})} \\left( \\begin{array}{cc}e & -b\\\\ -d & a\\\\ \\end{array}\\right)$"
   ],
   "id": "26c5d65effe29dc8"
  },
  {
   "metadata": {},
   "cell_type": "markdown",
   "source": "# Use Python NumPy Library to Solve Matrix Equation",
   "id": "f4af2bebad19c68c"
  },
  {
   "metadata": {
    "ExecuteTime": {
     "end_time": "2025-03-11T13:44:53.076873Z",
     "start_time": "2025-03-11T13:44:52.868988Z"
    }
   },
   "cell_type": "code",
   "source": [
    "import numpy as np\n",
    "\n",
    "\n",
    "matrix_A = np.array([[2, 3], [7, 11]])\n",
    "vector_b = np.array([[5], [13]])\n",
    "print(f'det(A) [NumPy] = {np.linalg.det(matrix_A)}')\n",
    "\n",
    "vector_x = np.linalg.solve(matrix_A, vector_b)\n",
    "print(f'x-vec [NumPy] = {vector_x}')\n",
    "\n",
    "determinant_of_A = 2 * 11 - 3 * 7\n",
    "print(f'det(A) [hand]  = {determinant_of_A}')\n",
    "x = (-3 * 13 + 5 * 11) / determinant_of_A\n",
    "y = (-7 * 5 + 13 * 2) / determinant_of_A\n",
    "print(f'x-vec [hand] = [[{x}] [{y}]]')\n"
   ],
   "id": "811c1f08d8a8e438",
   "outputs": [
    {
     "name": "stdout",
     "output_type": "stream",
     "text": [
      "det(A) [NumPy] = 0.9999999999999987\n",
      "x-vec [NumPy] = [[16.]\n",
      " [-9.]]\n",
      "det(A) [hand]  = 1\n",
      "x-vec [hand] = [[16.0] [-9.0]]\n"
     ]
    }
   ],
   "execution_count": 1
  }
 ],
 "metadata": {
  "kernelspec": {
   "display_name": "Python 3",
   "language": "python",
   "name": "python3"
  },
  "language_info": {
   "codemirror_mode": {
    "name": "ipython",
    "version": 2
   },
   "file_extension": ".py",
   "mimetype": "text/x-python",
   "name": "python",
   "nbconvert_exporter": "python",
   "pygments_lexer": "ipython2",
   "version": "2.7.6"
  }
 },
 "nbformat": 4,
 "nbformat_minor": 5
}
